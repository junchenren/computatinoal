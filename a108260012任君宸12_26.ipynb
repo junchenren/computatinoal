{
  "nbformat": 4,
  "nbformat_minor": 0,
  "metadata": {
    "colab": {
      "name": "a108260012任君宸12/26",
      "provenance": [],
      "include_colab_link": true
    },
    "kernelspec": {
      "name": "python3",
      "display_name": "Python 3"
    }
  },
  "cells": [
    {
      "cell_type": "markdown",
      "metadata": {
        "id": "view-in-github",
        "colab_type": "text"
      },
      "source": [
        "<a href=\"https://colab.research.google.com/github/junchenren/computatinoal/blob/master/a108260012%E4%BB%BB%E5%90%9B%E5%AE%B812_26.ipynb\" target=\"_parent\"><img src=\"https://colab.research.google.com/assets/colab-badge.svg\" alt=\"Open In Colab\"/></a>"
      ]
    },
    {
      "cell_type": "code",
      "metadata": {
        "id": "G9STHncwqW0u",
        "colab_type": "code",
        "colab": {
          "base_uri": "https://localhost:8080/",
          "height": 51
        },
        "outputId": "25bc6baf-6b3c-4510-f979-0bf91345f889"
      },
      "source": [
        "answer =\"123\"\n",
        "while True:\n",
        "  password=input(\"Enteer Your Password:\")\n",
        "  if password==answer:\n",
        "    print(\"Correct\")\n",
        "    break\n",
        "  else:\n",
        "      print(\"faill,try Again\")\n"
      ],
      "execution_count": 9,
      "outputs": [
        {
          "output_type": "stream",
          "text": [
            "Enteer Your Password:123\n",
            "Correct\n"
          ],
          "name": "stdout"
        }
      ]
    },
    {
      "cell_type": "code",
      "metadata": {
        "id": "ZMchZ3EhvU9B",
        "colab_type": "code",
        "colab": {}
      },
      "source": [
        "answer1 =\"123\"\n",
        "answer2 =\"456\"\n",
        "while True:\n",
        "  password1=input(\"Enteer Your Password:\")\n",
        "  password2=input(\"Enteer Your Password:\")\n",
        "  if password1==answer1 and password2==answer2:\n",
        "    print(\"Correct\")\n",
        "    break\n",
        "  else:\n",
        "      print(\"faill,try Again\")\n"
      ],
      "execution_count": 0,
      "outputs": []
    },
    {
      "cell_type": "code",
      "metadata": {
        "id": "6FaRc6chv00J",
        "colab_type": "code",
        "colab": {
          "base_uri": "https://localhost:8080/",
          "height": 119
        },
        "outputId": "15ef8d1e-f76a-4d1b-fe4d-27e6df11adc2"
      },
      "source": [
        "password=\"a123456\"\n",
        "time=0\n",
        "\n",
        "while time<=3:\n",
        "  answer = input(\"Enter Your Password:\")\n",
        "  if answer ==password:\n",
        "    print(\"Correct\")\n",
        "    break\n",
        "  else:\n",
        "      time=time+1\n",
        "      chance=3-time\n",
        "      print(\"wrong password!left over\",chance,\"opportuity\")"
      ],
      "execution_count": 18,
      "outputs": [
        {
          "output_type": "stream",
          "text": [
            "Enter Your Password:789789\n",
            "wrong password!left over 2 opportuity\n",
            "Enter Your Password:456456\n",
            "wrong password!left over 1 opportuity\n",
            "Enter Your Password:a123456\n",
            "Correct\n"
          ],
          "name": "stdout"
        }
      ]
    },
    {
      "cell_type": "code",
      "metadata": {
        "id": "kCdiyXTRzwuI",
        "colab_type": "code",
        "colab": {}
      },
      "source": [
        ""
      ],
      "execution_count": 0,
      "outputs": []
    }
  ]
}