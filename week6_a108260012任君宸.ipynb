{
  "nbformat": 4,
  "nbformat_minor": 0,
  "metadata": {
    "colab": {
      "name": "week6-a108260012任君宸",
      "provenance": []
    },
    "kernelspec": {
      "name": "python3",
      "display_name": "Python 3"
    }
  },
  "cells": [
    {
      "cell_type": "code",
      "metadata": {
        "id": "qQ3_tK6EasFi",
        "colab_type": "code",
        "colab": {}
      },
      "source": [
        "x = int(input('請輸入第一次期中考成績?'))\n",
        "y = int(input('請輸入第二次期中考成績?'))\n",
        "z = int(input('請輸入期末成績'))\n",
        "總分 = x + y + z\n",
        "平均 = (x + y + z)/3\n",
        "print('總分為', 總分,'平均為', 平均)"
      ],
      "execution_count": 0,
      "outputs": []
    },
    {
      "cell_type": "code",
      "metadata": {
        "id": "WbJ74aA6bcnO",
        "colab_type": "code",
        "colab": {}
      },
      "source": [
        "w = int(input('請輸入幾尺'))\n",
        "print(w,'尺')\n",
        "t = int(input('請輸入幾吋'))\n",
        "print(t,'吋')\n",
        "f = (w*12+t)*2.54\n",
        "print('轉換成',f,'公分')"
      ],
      "execution_count": 0,
      "outputs": []
    },
    {
      "cell_type": "code",
      "metadata": {
        "id": "0NVnjWhniXCK",
        "colab_type": "code",
        "colab": {}
      },
      "source": [
        "import math\n",
        "e = int(input('請輸入座號'))\n",
        "l = e/5 #每組五人\n",
        "print('組別為' ,math.ceil(l)) #若分組除下來有餘，則無條件進位"
      ],
      "execution_count": 0,
      "outputs": []
    },
    {
      "cell_type": "code",
      "metadata": {
        "id": "frxDlhcmie2T",
        "colab_type": "code",
        "colab": {}
      },
      "source": [
        "u = int(input('請輸入購買飲料的罐數'))\n",
        "p = u/12 #計算幾打\n",
        "v = int(p)*200 #打的價錢\n",
        "y = int(p) #幾打的整數(例如兩打)\n",
        "l = 12*y  #打數乘上12\n",
        "h = (u - l)*20 #未滿一打的罐數\n",
        "x = h+v #打的價錢+未滿一打的罐數的價錢\n",
        "print('需花費', x) "
      ],
      "execution_count": 0,
      "outputs": []
    },
    {
      "cell_type": "code",
      "metadata": {
        "id": "3gqk7bdyipIF",
        "colab_type": "code",
        "colab": {}
      },
      "source": [
        "print('1KB=',2**10,'Byte')\n",
        "print('1MB=',2**20,'Byte')\n",
        "print('1GB=',2**30,'Byte')\n",
        "print('1TB=',2**40,'Byte')\n",
        "print('1PB=',2**50,'Byte')\n",
        "print('1EB=',2**60,'Byte')\n",
        "print('1ZB=',2**70,'Bute')\n",
        "print('1YB=',2**80,'Byte')"
      ],
      "execution_count": 0,
      "outputs": []
    }
  ]
}